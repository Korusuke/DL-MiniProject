{
 "cells": [
  {
   "cell_type": "markdown",
   "id": "58f12658-e7bd-4f01-b1c1-47014db36ec8",
   "metadata": {},
   "source": [
    "# Import everything"
   ]
  },
  {
   "cell_type": "code",
   "execution_count": 1,
   "id": "b30c02e4-c039-4387-8bf9-a0e8f258d33f",
   "metadata": {},
   "outputs": [],
   "source": [
    "import torch\n",
    "import torch.nn as nn\n",
    "import torch.optim as optim\n",
    "import torch.nn.functional as F\n",
    "import torch.backends.cudnn as cudnn\n",
    "\n",
    "from torchsummary import summary\n",
    "import torchvision\n",
    "import torchvision.transforms as transforms\n",
    "\n",
    "import os\n",
    "import argparse\n",
    "\n",
    "from tqdm.auto import tqdm, trange"
   ]
  },
  {
   "cell_type": "code",
   "execution_count": 2,
   "id": "f201fc2f-e955-4cbc-8b69-42a2bef4a9bb",
   "metadata": {},
   "outputs": [],
   "source": [
    "device = 'cuda' if torch.cuda.is_available() else 'cpu'"
   ]
  },
  {
   "cell_type": "markdown",
   "id": "c6bc6693-f874-4047-ae56-6da118da0a26",
   "metadata": {},
   "source": [
    "# Download and Prepare Data"
   ]
  },
  {
   "cell_type": "code",
   "execution_count": 3,
   "id": "0913e1f1-6a25-4fcc-b398-924ef7da0bb2",
   "metadata": {},
   "outputs": [
    {
     "name": "stdout",
     "output_type": "stream",
     "text": [
      "Files already downloaded and verified\n",
      "Files already downloaded and verified\n"
     ]
    }
   ],
   "source": [
    "transform_train = transforms.Compose([\n",
    "    transforms.RandomCrop(32, padding=4),\n",
    "    transforms.RandomHorizontalFlip(),\n",
    "    transforms.ToTensor(),\n",
    "    transforms.Normalize((0.4914, 0.4822, 0.4465), (0.2023, 0.1994, 0.2010)),\n",
    "])\n",
    "\n",
    "transform_test = transforms.Compose([\n",
    "    transforms.ToTensor(),\n",
    "    transforms.Normalize((0.4914, 0.4822, 0.4465), (0.2023, 0.1994, 0.2010)),\n",
    "])\n",
    "\n",
    "trainset = torchvision.datasets.CIFAR10(\n",
    "    root='./data', train=True, download=True, transform=transform_train)\n",
    "trainloader = torch.utils.data.DataLoader(\n",
    "    trainset, batch_size=128, shuffle=True, num_workers=2)\n",
    "\n",
    "testset = torchvision.datasets.CIFAR10(\n",
    "    root='./data', train=False, download=True, transform=transform_test)\n",
    "testloader = torch.utils.data.DataLoader(\n",
    "    testset, batch_size=100, shuffle=False, num_workers=2)\n",
    "\n",
    "classes = ('plane', 'car', 'bird', 'cat', 'deer',\n",
    "           'dog', 'frog', 'horse', 'ship', 'truck')"
   ]
  },
  {
   "cell_type": "markdown",
   "id": "e83d61e2-27b2-4a1c-927c-ea6c41586261",
   "metadata": {},
   "source": [
    "# Define Network"
   ]
  },
  {
   "cell_type": "code",
   "execution_count": 4,
   "id": "2396685f-13d5-4e30-81b8-e1e5c957a2c0",
   "metadata": {},
   "outputs": [],
   "source": [
    "from model import ResNet18\n",
    "net = ResNet18()"
   ]
  },
  {
   "cell_type": "code",
   "execution_count": 5,
   "id": "f3c798ef-8b09-4b2d-881f-29748d7e6221",
   "metadata": {},
   "outputs": [],
   "source": [
    "if device == 'cuda':\n",
    "    net = torch.nn.DataParallel(net)\n",
    "    cudnn.benchmark = True"
   ]
  },
  {
   "cell_type": "code",
   "execution_count": 6,
   "id": "25309fe0-7a11-46ea-9103-d456b3fc16c4",
   "metadata": {},
   "outputs": [
    {
     "name": "stdout",
     "output_type": "stream",
     "text": [
      "=================================================================\n",
      "Layer (type:depth-idx)                   Param #\n",
      "=================================================================\n",
      "├─ResNet: 1-1                            --\n",
      "|    └─Conv2d: 2-1                       1,728\n",
      "|    └─BatchNorm2d: 2-2                  128\n",
      "|    └─Sequential: 2-3                   --\n",
      "|    |    └─BasicBlock: 3-1              73,984\n",
      "|    |    └─BasicBlock: 3-2              73,984\n",
      "|    └─Sequential: 2-4                   --\n",
      "|    |    └─BasicBlock: 3-3              230,144\n",
      "|    |    └─BasicBlock: 3-4              295,424\n",
      "|    └─Sequential: 2-5                   --\n",
      "|    |    └─BasicBlock: 3-5              919,040\n",
      "|    |    └─BasicBlock: 3-6              1,180,672\n",
      "|    └─Sequential: 2-6                   --\n",
      "|    |    └─BasicBlock: 3-7              3,673,088\n",
      "|    |    └─BasicBlock: 3-8              4,720,640\n",
      "|    └─Linear: 2-7                       5,130\n",
      "=================================================================\n",
      "Total params: 11,173,962\n",
      "Trainable params: 11,173,962\n",
      "Non-trainable params: 0\n",
      "=================================================================\n"
     ]
    }
   ],
   "source": [
    "params = summary(net)"
   ]
  },
  {
   "cell_type": "code",
   "execution_count": 7,
   "id": "7b6b1bb6-6b4d-4c55-9f88-662fd085635e",
   "metadata": {},
   "outputs": [
    {
     "name": "stdout",
     "output_type": "stream",
     "text": [
      "Total Parameters: 11173962, Trainable Parameter: 11173962\n",
      "Satisfies the assignment criteria: False\n"
     ]
    }
   ],
   "source": [
    "print(f\"Total Parameters: {params.total_params}, Trainable Parameter: {params.trainable_params}\")\n",
    "print(f\"Satisfies the assignment criteria: {params.total_params <= 5000000}\")"
   ]
  },
  {
   "cell_type": "markdown",
   "id": "2ad01bca-eac5-40ad-8db5-0134fd76fc86",
   "metadata": {},
   "source": [
    "# Hyperparameters"
   ]
  },
  {
   "cell_type": "code",
   "execution_count": 8,
   "id": "8b8bce6c-5b7f-48fe-8c72-1d492203f6f7",
   "metadata": {},
   "outputs": [],
   "source": [
    "lr = 0.1"
   ]
  },
  {
   "cell_type": "code",
   "execution_count": 9,
   "id": "037be585-fe5a-46e6-b56d-ec402ad0035b",
   "metadata": {},
   "outputs": [],
   "source": [
    "best_acc = 0"
   ]
  },
  {
   "cell_type": "markdown",
   "id": "61419fda-bb7d-4ec8-94ef-34db0ace0f26",
   "metadata": {},
   "source": [
    "# Helper Functions"
   ]
  },
  {
   "cell_type": "code",
   "execution_count": 10,
   "id": "e821f1f5-3009-4cf6-a226-db5dc96b56f3",
   "metadata": {},
   "outputs": [],
   "source": [
    "criterion = nn.CrossEntropyLoss()\n",
    "optimizer = optim.SGD(net.parameters(), lr=lr,\n",
    "                      momentum=0.9, weight_decay=5e-4)\n",
    "scheduler = torch.optim.lr_scheduler.CosineAnnealingLR(optimizer, T_max=200)"
   ]
  },
  {
   "cell_type": "code",
   "execution_count": 11,
   "id": "4d663ece-7e7b-42d6-84cd-3616cfe626e9",
   "metadata": {},
   "outputs": [],
   "source": [
    "def train(epoch):\n",
    "    net.train()\n",
    "    train_loss = 0\n",
    "    correct = 0\n",
    "    total = 0\n",
    "    \n",
    "    pbar = tqdm(total=len(trainloader), position=1)\n",
    "    pbar.set_description('Train Epoch %i' % epoch)\n",
    "    \n",
    "    for batch_idx, (inputs, targets) in enumerate(trainloader):\n",
    "        inputs, targets = inputs.to(device), targets.to(device)\n",
    "        optimizer.zero_grad()\n",
    "        outputs = net(inputs)\n",
    "        loss = criterion(outputs, targets)\n",
    "        loss.backward()\n",
    "        optimizer.step()\n",
    "\n",
    "        train_loss += loss.item()\n",
    "        _, predicted = outputs.max(1)\n",
    "        total += targets.size(0)\n",
    "        correct += predicted.eq(targets).sum().item()\n",
    "        \n",
    "        loss = train_loss/(batch_idx+1)\n",
    "        acc = 100.*correct/total\n",
    "        \n",
    "        pbar.set_postfix(loss=loss, acc=acc)\n",
    "        pbar.update()\n",
    "\n",
    "    pbar.close()"
   ]
  },
  {
   "cell_type": "code",
   "execution_count": 12,
   "id": "f804f980-f74d-47ee-99ee-7f1eb56cfe8d",
   "metadata": {
    "tags": []
   },
   "outputs": [],
   "source": [
    "def test(epoch):\n",
    "    global best_acc\n",
    "    net.eval()\n",
    "    test_loss = 0\n",
    "    correct = 0\n",
    "    total = 0\n",
    "    with torch.no_grad():\n",
    "        \n",
    "        pbar = tqdm(total=len(testloader), position=1)\n",
    "        pbar.set_description('Test Epoch %i' % epoch)\n",
    "        \n",
    "        for batch_idx, (inputs, targets) in enumerate(testloader):\n",
    "            inputs, targets = inputs.to(device), targets.to(device)\n",
    "            outputs = net(inputs)\n",
    "            loss = criterion(outputs, targets)\n",
    "\n",
    "            test_loss += loss.item()\n",
    "            _, predicted = outputs.max(1)\n",
    "            total += targets.size(0)\n",
    "            correct += predicted.eq(targets).sum().item()\n",
    "            \n",
    "            loss = test_loss/(batch_idx+1)\n",
    "            acc = 100.*correct/total\n",
    "\n",
    "            pbar.set_postfix(loss=loss, acc=acc)\n",
    "            pbar.update()\n",
    "        \n",
    "        pbar.close()\n",
    "\n",
    "    # Save checkpoint.\n",
    "    acc = 100.*correct/total\n",
    "    if acc > best_acc:\n",
    "        state = {\n",
    "            'net': net.state_dict(),\n",
    "            'acc': acc,\n",
    "            'epoch': epoch,\n",
    "        }\n",
    "        if not os.path.isdir('checkpoint'):\n",
    "            os.mkdir('checkpoint')\n",
    "        torch.save(state, './checkpoint/ckpt.pth')\n",
    "        best_acc = acc"
   ]
  },
  {
   "cell_type": "markdown",
   "id": "1f231023-15c9-42cd-aee6-ca94784442b0",
   "metadata": {},
   "source": [
    "# Train Network"
   ]
  },
  {
   "cell_type": "code",
   "execution_count": 13,
   "id": "3128f639-f4cc-45f7-b157-7c7d3d670e95",
   "metadata": {},
   "outputs": [],
   "source": [
    "start_epoch = 0\n",
    "total_epochs = 200"
   ]
  },
  {
   "cell_type": "code",
   "execution_count": null,
   "id": "35722f98-9857-451c-b8cd-8286f57e3fd0",
   "metadata": {
    "tags": []
   },
   "outputs": [],
   "source": [
    "for epoch in trange(start_epoch, total_epochs, desc='Epoch'):\n",
    "    train(epoch)\n",
    "    test(epoch)\n",
    "    scheduler.step()"
   ]
  },
  {
   "cell_type": "markdown",
   "id": "4d749e00-53c4-46b3-aec7-d33c8c053091",
   "metadata": {},
   "source": [
    "# Results"
   ]
  },
  {
   "cell_type": "code",
   "execution_count": null,
   "id": "27b5ed97-53f3-42c1-8db3-ba279fa1826c",
   "metadata": {},
   "outputs": [],
   "source": []
  }
 ],
 "metadata": {
  "kernelspec": {
   "display_name": "kaggle",
   "language": "python",
   "name": "kaggle"
  },
  "language_info": {
   "codemirror_mode": {
    "name": "ipython",
    "version": 3
   },
   "file_extension": ".py",
   "mimetype": "text/x-python",
   "name": "python",
   "nbconvert_exporter": "python",
   "pygments_lexer": "ipython3",
   "version": "3.9.7"
  }
 },
 "nbformat": 4,
 "nbformat_minor": 5
}
